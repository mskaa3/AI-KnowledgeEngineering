{
 "cells": [
  {
   "cell_type": "code",
   "execution_count": 62,
   "id": "78bad602",
   "metadata": {},
   "outputs": [
    {
     "name": "stdout",
     "output_type": "stream",
     "text": [
      "<class 'pandas.core.frame.DataFrame'>\n",
      "RangeIndex: 1000 entries, 0 to 999\n",
      "Data columns (total 2 columns):\n",
      " #   Column  Non-Null Count  Dtype \n",
      "---  ------  --------------  ----- \n",
      " 0   Review  1000 non-null   object\n",
      " 1   Result  1000 non-null   int64 \n",
      "dtypes: int64(1), object(1)\n",
      "memory usage: 15.8+ KB\n"
     ]
    }
   ],
   "source": [
    "import pandas as pd\n",
    "opinions=pd.read_csv(\"amazon.txt\",sep='\\t', header=None, names=[\"Review\",\"Result\"],quoting=3)\n",
    "opinions.info()"
   ]
  },
  {
   "cell_type": "code",
   "execution_count": 63,
   "id": "d003493f",
   "metadata": {},
   "outputs": [
    {
     "data": {
      "text/plain": [
       "0    So there is no way for me to plug it in here i...\n",
       "1                          Good case, Excellent value.\n",
       "2                               Great for the jawbone.\n",
       "3    Tied to charger for conversations lasting more...\n",
       "4                                    The mic is great.\n",
       "Name: Review, dtype: object"
      ]
     },
     "execution_count": 63,
     "metadata": {},
     "output_type": "execute_result"
    }
   ],
   "source": [
    "opinions['Review'].head()"
   ]
  },
  {
   "cell_type": "code",
   "execution_count": 69,
   "id": "e8e324c2",
   "metadata": {
    "scrolled": true
   },
   "outputs": [
    {
     "data": {
      "text/plain": [
       "0              so way plug us unless i go convert\n",
       "1                            good case excel valu\n",
       "2                                    great jawbon\n",
       "3    tie charger convers last minut major problem\n",
       "4                                   the mic great\n",
       "Name: cleaned, dtype: object"
      ]
     },
     "execution_count": 69,
     "metadata": {},
     "output_type": "execute_result"
    }
   ],
   "source": [
    "\n",
    "from nltk.corpus import stopwords\n",
    "from nltk.stem import SnowballStemmer\n",
    "\n",
    "import re\n",
    "# connecting different instances of the word to one, like connection, connections, connective, connected\n",
    "stemmer=SnowballStemmer('english')\n",
    "# stop words are meaningless common words like and, a, an\n",
    "stop_words=stopwords.words(\"english\")\n",
    "# applying lambda to each column: replacing every chaaracter that is not a letter to a blank, splitting into words,\n",
    "# and we use stemmer if the word is not a stopword, and than we join it together into a sentence with blank\n",
    "opinions[\"cleaned\"]=opinions[\"Review\"].apply(lambda x: \" \".join(\n",
    "    [stemmer.stem(i) for i in re.sub(\"[^a-zA-Z]\",\" \",x).split() if i not in stop_words]).lower())\n",
    "opinions[\"cleaned\"].head()"
   ]
  },
  {
   "cell_type": "code",
   "execution_count": 131,
   "id": "8b0abd83",
   "metadata": {},
   "outputs": [
    {
     "data": {
      "text/plain": [
       "0.79"
      ]
     },
     "execution_count": 131,
     "metadata": {},
     "output_type": "execute_result"
    }
   ],
   "source": [
    "from sklearn.model_selection import train_test_split\n",
    "from sklearn.pipeline import Pipeline\n",
    "import numpy as np\n",
    "from sklearn.feature_extraction.text import TfidfVectorizer\n",
    "from sklearn.svm import LinearSVC\n",
    "\n",
    "x_train,x_test,y_train,y_test=train_test_split(opinions['Review'],opinions[\"Result\"],test_size=0.2)\n",
    "pip=Pipeline([('vectorizer',TfidfVectorizer(ngram_range=(1, 2),stop_words=\"english\")),\n",
    "              ('classifier',LinearSVC(random_state=10))\n",
    "             ])\n",
    "opinions_model=pip.fit(x_train,y_train)\n",
    "opinions_model.score(x_test,y_test)\n"
   ]
  },
  {
   "cell_type": "code",
   "execution_count": 132,
   "id": "c524c110",
   "metadata": {},
   "outputs": [
    {
     "data": {
      "text/plain": [
       "array([0.78125, 0.74375, 0.79375, 0.78125, 0.78125])"
      ]
     },
     "execution_count": 132,
     "metadata": {},
     "output_type": "execute_result"
    }
   ],
   "source": [
    "from sklearn.model_selection import cross_val_score\n",
    "y_train_pred=cross_val_score(opinions_model,x_train,y_train,cv=5)\n",
    "y_train_pred"
   ]
  },
  {
   "cell_type": "code",
   "execution_count": 133,
   "id": "4b9469b5",
   "metadata": {},
   "outputs": [
    {
     "data": {
      "text/plain": [
       "array([[313,  90],\n",
       "       [ 89, 308]], dtype=int64)"
      ]
     },
     "execution_count": 133,
     "metadata": {},
     "output_type": "execute_result"
    }
   ],
   "source": [
    "from sklearn.model_selection import cross_val_predict\n",
    "from sklearn.metrics import confusion_matrix\n",
    "y_train_pred2=cross_val_predict(opinions_model,x_train,y_train,cv=5)\n",
    "confusion_matrix(y_train,y_train_pred2)"
   ]
  },
  {
   "cell_type": "code",
   "execution_count": 134,
   "id": "a78cf929",
   "metadata": {},
   "outputs": [
    {
     "name": "stdout",
     "output_type": "stream",
     "text": [
      "0.7738693467336684\n",
      "0.7758186397984886\n"
     ]
    }
   ],
   "source": [
    "from sklearn.metrics import precision_score,recall_score\n",
    "print(precision_score(y_train,y_train_pred2))\n",
    "print(recall_score(y_train,y_train_pred2))\n"
   ]
  },
  {
   "cell_type": "code",
   "execution_count": 135,
   "id": "bcd7a331",
   "metadata": {},
   "outputs": [
    {
     "data": {
      "text/plain": [
       "array([0.7 , 0.6 , 0.85, 0.8 , 0.7 ])"
      ]
     },
     "execution_count": 135,
     "metadata": {},
     "output_type": "execute_result"
    }
   ],
   "source": [
    "y_test_pred=cross_val_score(opinions_model,x_test,y_test,cv=5)\n",
    "y_test_pred"
   ]
  },
  {
   "cell_type": "code",
   "execution_count": 121,
   "id": "cc63577a",
   "metadata": {},
   "outputs": [
    {
     "data": {
      "text/plain": [
       "0.655"
      ]
     },
     "execution_count": 121,
     "metadata": {},
     "output_type": "execute_result"
    }
   ],
   "source": [
    "from sklearn.ensemble import GradientBoostingClassifier\n",
    "pip2=Pipeline([('vectorizer',TfidfVectorizer(ngram_range=(1, 2),stop_words=\"english\",max_df=8)),\n",
    "              ('classifier', GradientBoostingClassifier(random_state=10))\n",
    "             ])\n",
    "opinions_model_2=pip2.fit(x_train,y_train)\n",
    "opinions_model_2.score(x_test,y_test)\n"
   ]
  },
  {
   "cell_type": "code",
   "execution_count": 122,
   "id": "1926df79",
   "metadata": {},
   "outputs": [
    {
     "data": {
      "text/plain": [
       "array([0.675, 0.7  , 0.625, 0.55 , 0.725])"
      ]
     },
     "execution_count": 122,
     "metadata": {},
     "output_type": "execute_result"
    }
   ],
   "source": [
    "y_test_pred_2=cross_val_score(opinions_model_2,x_test,y_test,cv=5)\n",
    "y_test_pred_2"
   ]
  },
  {
   "cell_type": "code",
   "execution_count": 123,
   "id": "ff63bda0",
   "metadata": {},
   "outputs": [
    {
     "data": {
      "text/plain": [
       "array([[86, 15],\n",
       "       [54, 45]], dtype=int64)"
      ]
     },
     "execution_count": 123,
     "metadata": {},
     "output_type": "execute_result"
    }
   ],
   "source": [
    "y_test_pred_2=cross_val_predict(opinions_model_2,x_test,y_test,cv=5)\n",
    "confusion_matrix(y_test,y_test_pred_2)"
   ]
  },
  {
   "cell_type": "code",
   "execution_count": null,
   "id": "86a1e4be",
   "metadata": {},
   "outputs": [],
   "source": []
  }
 ],
 "metadata": {
  "kernelspec": {
   "display_name": "Python 3 (ipykernel)",
   "language": "python",
   "name": "python3"
  },
  "language_info": {
   "codemirror_mode": {
    "name": "ipython",
    "version": 3
   },
   "file_extension": ".py",
   "mimetype": "text/x-python",
   "name": "python",
   "nbconvert_exporter": "python",
   "pygments_lexer": "ipython3",
   "version": "3.9.7"
  }
 },
 "nbformat": 4,
 "nbformat_minor": 5
}
